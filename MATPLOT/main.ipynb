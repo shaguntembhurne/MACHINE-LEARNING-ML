{
 "cells": [
  {
   "cell_type": "code",
   "execution_count": 1,
   "metadata": {},
   "outputs": [
    {
     "ename": "ModuleNotFoundError",
     "evalue": "No module named 'matplotlib'",
     "output_type": "error",
     "traceback": [
      "\u001b[0;31m---------------------------------------------------------------------------\u001b[0m",
      "\u001b[0;31mModuleNotFoundError\u001b[0m                       Traceback (most recent call last)",
      "Cell \u001b[0;32mIn[1], line 1\u001b[0m\n\u001b[0;32m----> 1\u001b[0m \u001b[38;5;28;01mimport\u001b[39;00m \u001b[38;5;21;01mmatplotlib\u001b[39;00m\u001b[38;5;21;01m.\u001b[39;00m\u001b[38;5;21;01mpyplot\u001b[39;00m \u001b[38;5;28;01mas\u001b[39;00m \u001b[38;5;21;01mplt\u001b[39;00m\n\u001b[1;32m      3\u001b[0m \u001b[38;5;66;03m# LINE PLOT\u001b[39;00m\n\u001b[1;32m      4\u001b[0m x \u001b[38;5;241m=\u001b[39m [\u001b[38;5;241m1\u001b[39m, \u001b[38;5;241m2\u001b[39m, \u001b[38;5;241m3\u001b[39m, \u001b[38;5;241m4\u001b[39m, \u001b[38;5;241m5\u001b[39m]\n",
      "\u001b[0;31mModuleNotFoundError\u001b[0m: No module named 'matplotlib'"
     ]
    }
   ],
   "source": [
    "import matplotlib.pyplot as plt\n",
    "\n",
    "# LINE PLOT\n",
    "x = [1, 2, 3, 4, 5]\n",
    "y = [2, 4, 6, 8, 10]\n",
    "\n",
    "plt.plot(x, y, label=\"line\", color='blue', marker='o')\n",
    "plt.title('Line Plot Example')\n",
    "plt.xlabel('X-axis')\n",
    "plt.ylabel('Y-axis')\n",
    "plt.legend()  # Show legend\n",
    "plt.show()\n",
    "\n",
    "# BAR CHART\n",
    "categories = [\"A\", \"B\", \"C\"]\n",
    "sales = [5, 7, 9]  # Numeric sales values, should not be strings\n",
    "plt.bar(categories, sales)\n",
    "plt.title('Sales Chart')\n",
    "plt.xlabel('Categories')\n",
    "plt.ylabel('Sales')\n",
    "plt.show()\n",
    "\n",
    "# SCATTER PLOT\n",
    "x = [1, 2, 3, 4, 5]\n",
    "y = [5, 7, 6, 8, 7]\n",
    "plt.scatter(x, y)\n",
    "plt.title(\"Scatter Plot\")\n",
    "plt.xlabel('X-axis')\n",
    "plt.ylabel('Y-axis')\n",
    "plt.show()\n",
    "\n",
    "# PIE CHART\n",
    "labels = [\"A\", \"B\", \"C\"]\n",
    "sizes = [20, 30, 40]\n",
    "plt.pie(sizes, labels=labels, autopct='%1.1f%%')\n",
    "plt.title('Pie Chart')\n",
    "plt.show()\n",
    "\n",
    "# HISTOGRAM\n",
    "data = [1, 2, 2, 3, 3, 3, 4, 4, 4, 4, 5]\n",
    "plt.hist(data, bins=5)\n",
    "plt.title('Histogram')\n",
    "plt.show()\n",
    "\n",
    "# Customizations\n",
    "# Custom Line Plot with Red color and dashed line\n",
    "plt.plot(x, y, color=\"red\", marker='o', linestyle='--')\n",
    "plt.grid(True)  # Enable grid\n",
    "plt.legend(['Dataset1'])\n",
    "plt.title('Customized Line Plot')\n",
    "plt.xlabel('X-axis')\n",
    "plt.ylabel('Y-axis')\n",
    "plt.show()\n",
    "\n",
    "# SUBPLOT\n",
    "x = [1, 2, 3, 4]\n",
    "y = [10, 20, 25, 30]\n",
    "categories = ['A', 'B', 'C', 'D']\n",
    "sales = [15, 10, 25, 30]\n",
    "\n",
    "# Create subplots (2 rows, 1 column)\n",
    "fig, axs = plt.subplots(2, 1)  # 2 rows, 1 column\n",
    "\n",
    "# Line plot in the first subplot\n",
    "axs[0].plot(x, y, marker='o')\n",
    "axs[0].set_title(\"Line Plot\")  # Title for the first subplot\n",
    "\n",
    "# Bar plot in the second subplot\n",
    "axs[1].bar(categories, sales)\n",
    "axs[1].set_title(\"Bar Chart\")  # Title for the second subplot\n",
    "\n",
    "# Show the plots\n",
    "plt.tight_layout()  # Adjust spacing between subplots\n",
    "plt.show()\n"
   ]
  }
 ],
 "metadata": {
  "kernelspec": {
   "display_name": "Python 3",
   "language": "python",
   "name": "python3"
  },
  "language_info": {
   "codemirror_mode": {
    "name": "ipython",
    "version": 3
   },
   "file_extension": ".py",
   "mimetype": "text/x-python",
   "name": "python",
   "nbconvert_exporter": "python",
   "pygments_lexer": "ipython3",
   "version": "3.12.0"
  }
 },
 "nbformat": 4,
 "nbformat_minor": 2
}
